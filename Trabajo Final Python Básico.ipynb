{
  "nbformat": 4,
  "nbformat_minor": 0,
  "metadata": {
    "colab": {
      "provenance": [],
      "authorship_tag": "ABX9TyPCjVsRvufdtt3rLmbWryLO",
      "include_colab_link": true
    },
    "kernelspec": {
      "name": "python3",
      "display_name": "Python 3"
    },
    "language_info": {
      "name": "python"
    }
  },
  "cells": [
    {
      "cell_type": "markdown",
      "metadata": {
        "id": "view-in-github",
        "colab_type": "text"
      },
      "source": [
        "<a href=\"https://colab.research.google.com/github/wgastelu/Trabajo_Final_Python/blob/main/Trabajo%20Final%20Python%20B%C3%A1sico.ipynb\" target=\"_parent\"><img src=\"https://colab.research.google.com/assets/colab-badge.svg\" alt=\"Open In Colab\"/></a>"
      ]
    },
    {
      "cell_type": "markdown",
      "source": [
        "# **Modulo 2**\n",
        "\n",
        "## **Sentencias IF**\n",
        "\n",
        "**Ejercicio 1**\n",
        "\n",
        "Imagina que un extraterrestre acaba de ser derribado en un juego. Cree una variable llamada alien_color y asígnele un valor de 'verde', 'amarillo' o 'rojo'.\n",
        "\n",
        "Escribe una declaración if para probar si el color del extraterrestre es verde. Si es así, imprime un mensaje de que el jugador acaba de ganar 5 puntos."
      ],
      "metadata": {
        "id": "sMluBvB-1jdF"
      }
    },
    {
      "cell_type": "code",
      "execution_count": 6,
      "metadata": {
        "id": "9zE_t7Q1dLYZ",
        "colab": {
          "base_uri": "https://localhost:8080/"
        },
        "outputId": "e0121326-d8a8-4706-ffa4-6fb9194efbdf"
      },
      "outputs": [
        {
          "output_type": "stream",
          "name": "stdout",
          "text": [
            "Ingrese el color del Alien: verde\n",
            "Acaba de ganar 5 puntos\n"
          ]
        }
      ],
      "source": [
        "alien_color = input(\"Ingrese el color del Alien: \")\n",
        "\n",
        "if alien_color.lower() == 'verde':\n",
        "  print(\"Acaba de ganar 5 puntos\")\n"
      ]
    },
    {
      "cell_type": "markdown",
      "source": [
        "**Ejercicio 2**\n",
        "\n",
        "Elija un color para un extraterrestre como lo hizo en el Ejercicio anterior y escriba una cadena if-else.\n",
        "\n",
        "Si el alienígena es verde, imprime un mensaje de que el jugador obtuvo 5 puntos. Si el alienígena es amarillo, imprime un mensaje de que el jugador obtuvo 10 puntos. Si el alienígena es rojo, imprime un mensaje de que el jugador obtuvo 15 puntos."
      ],
      "metadata": {
        "id": "8VeyoTc_13Pj"
      }
    },
    {
      "cell_type": "code",
      "source": [
        "alien_color = input(\"Ingrese el color del Alien: \")\n",
        "\n",
        "if alien_color.lower() == 'verde':\n",
        "  print(\"Acaba de ganar 5 puntos\")\n",
        "\n",
        "if alien_color.lower() == 'amarillo':\n",
        "  print(\"Acaba de ganar 10 puntos\")\n",
        "\n",
        "if alien_color.lower() == 'rojo':\n",
        "  print(\"Acaba de ganar 15 puntos\")\n",
        "\n"
      ],
      "metadata": {
        "colab": {
          "base_uri": "https://localhost:8080/"
        },
        "id": "-_Jb-y7H2CNf",
        "outputId": "7a694b7b-30af-4524-b46a-f9daca33cd16"
      },
      "execution_count": 9,
      "outputs": [
        {
          "output_type": "stream",
          "name": "stdout",
          "text": [
            "Ingrese el color del Alien: rojo\n",
            "Acaba de ganar 15 puntos\n"
          ]
        }
      ]
    },
    {
      "cell_type": "markdown",
      "source": [
        "# **Sentencias While**\n",
        "\n",
        "**Ejercicio 1**\n",
        "\n",
        "Escriba un ciclo que solicite al usuario que ingrese una serie de ingredientes para la pizza hasta que ingrese un valor de 'salir'. A medida que ingresen cada ingrediente, imprima un mensaje que diga que agregará ese ingrediente a su pizza."
      ],
      "metadata": {
        "id": "xI3VwhBz2Drs"
      }
    },
    {
      "cell_type": "code",
      "source": [
        "while True:\n",
        "  Ingrediente = input(\"Ingrese el ingrediente: \")\n",
        "  if Ingrediente.lower() == 'salir':\n",
        "    break           \n",
        "  else:\n",
        "    print(f\"Se agregará {Ingrediente} a su pizza\")\n",
        "    "
      ],
      "metadata": {
        "colab": {
          "base_uri": "https://localhost:8080/"
        },
        "id": "lebvi6Li2Qd8",
        "outputId": "a201f0eb-7695-4124-ceed-48feb3a71ec1"
      },
      "execution_count": 16,
      "outputs": [
        {
          "name": "stdout",
          "output_type": "stream",
          "text": [
            "Ingrese el ingrediente: Carne\n",
            "Se agregará Carne a su pizza\n",
            "Ingrese el ingrediente: Jamón\n",
            "Se agregará Jamón a su pizza\n",
            "Ingrese el ingrediente: Champiñones\n",
            "Se agregará Champiñones a su pizza\n",
            "Ingrese el ingrediente: salir\n"
          ]
        }
      ]
    },
    {
      "cell_type": "markdown",
      "source": [
        "**Ejercicio 2**\n",
        "\n",
        "Un cine cobra diferentes precios de boletos dependiendo de la edad de una persona. Si una persona es menor de 3 años, la entrada es gratuita; si son entre 3 y 12, el boleto cuesta s/. 10; y si son mayores de 12 años, el boleto cuesta s/. 15. Escriba un ciclo en el que pregunte a los usuarios su edad y luego dígales el costo de su boleto de cine."
      ],
      "metadata": {
        "id": "Q4SKkDv-2RFt"
      }
    },
    {
      "cell_type": "code",
      "source": [
        "while True:  \n",
        "  Edad = int(input(\"Ingrese su edad: \"))  \n",
        "  if Edad < 0:\n",
        "    break\n",
        "  elif Edad >= 0 and Edad < 3:\n",
        "    print(\"La entrada es gratuita\")\n",
        "  elif Edad >= 3 and Edad <= 12:\n",
        "    print(\"El precio del boleto es S/. 10\")   \n",
        "  elif Edad > 12:\n",
        "    print(\"El precio del boleto es S/. 15\")\n",
        "  "
      ],
      "metadata": {
        "colab": {
          "base_uri": "https://localhost:8080/"
        },
        "id": "l68Ryrgz2ZRt",
        "outputId": "507704f4-7c75-4914-dbb9-ef927f7dce70"
      },
      "execution_count": 25,
      "outputs": [
        {
          "name": "stdout",
          "output_type": "stream",
          "text": [
            "Ingrese su edad: 2\n",
            "La entrada es gratuita\n",
            "Ingrese su edad: 8\n",
            "El precio del boleto es S/. 10\n",
            "Ingrese su edad: 25\n",
            "El precio del boleto es S/. 15\n",
            "Ingrese su edad: -1\n"
          ]
        }
      ]
    },
    {
      "cell_type": "markdown",
      "source": [
        "# **Sentencia For**\n",
        "\n",
        "**Ejercicio 1**\n",
        "\n",
        "Piensa en al menos tres tipos de tu pizza favorita. Almacene estos nombres de pizza en una lista y luego use un ciclo for para imprimir el nombre de cada pizza.\n",
        "\n",
        "Modifique su ciclo for para imprimir una oración usando el nombre de la pizza en lugar de imprimir solo el nombre de la pizza. Para cada pizza, debe tener una línea de salida que contenga una declaración simple como Me gusta la pizza de pepperoni. Agregue una línea al final de su programa, fuera del bucle for, que indique cuánto le gusta la pizza. El resultado debe constar de tres o más líneas sobre los tipos de pizza que te gustan y luego una oración adicional, como ¡Me encanta la pizza!"
      ],
      "metadata": {
        "id": "mPGdeI9L2f30"
      }
    },
    {
      "cell_type": "code",
      "source": [
        "Lista_Pizzas = [\"Vegetariana\", \"Hawaiana\", \"Napolitana\"]\n",
        "for i in Lista_Pizzas:\n",
        "  print(i)"
      ],
      "metadata": {
        "colab": {
          "base_uri": "https://localhost:8080/"
        },
        "id": "8CteiP-R2spq",
        "outputId": "a36693e0-b553-46a0-fce5-c7f2cf3d7e3b"
      },
      "execution_count": 28,
      "outputs": [
        {
          "output_type": "stream",
          "name": "stdout",
          "text": [
            "Vegetariana\n",
            "Hawaiana\n",
            "Napolitana\n"
          ]
        }
      ]
    },
    {
      "cell_type": "code",
      "source": [
        "Lista_Pizzas = [\"Vegetariana\", \"Hawaiana\", \"Napolitana\"]\n",
        "for i in Lista_Pizzas:\n",
        "  print(f\"Me gusta la pizza {i}\")\n",
        "print(\"¡Me encanta la pizza!\")"
      ],
      "metadata": {
        "id": "6DUL7-CeVQc6",
        "outputId": "970288fe-d639-46ba-b4e1-8c7d1bfe5d6a",
        "colab": {
          "base_uri": "https://localhost:8080/"
        }
      },
      "execution_count": 30,
      "outputs": [
        {
          "output_type": "stream",
          "name": "stdout",
          "text": [
            "Me gusta la pizza Vegetariana\n",
            "Me gusta la pizza Hawaiana\n",
            "Me gusta la pizza Napolitana\n",
            "¡Me encanta la pizza!\n"
          ]
        }
      ]
    },
    {
      "cell_type": "markdown",
      "source": [
        "**Ejercicio 2**\n",
        "\n",
        "Piensa en al menos tres animales diferentes que tengan una característica común. Guarde los nombres de estos animales en una lista y luego use un ciclo for para imprimir el nombre de cada animal.\n",
        "\n",
        "Modifique su programa para imprimir una declaración sobre cada animal, como Un perro sería una gran mascota. Agregue una línea al final de su programa indicando lo que estos animales tienen en común. Podría escribir una oración como ¡Cualquiera de estos animales sería una gran mascota!"
      ],
      "metadata": {
        "id": "ZHXLW8R72tHb"
      }
    },
    {
      "cell_type": "code",
      "source": [],
      "metadata": {
        "id": "93GwbwmC2x2c"
      },
      "execution_count": null,
      "outputs": []
    }
  ]
}