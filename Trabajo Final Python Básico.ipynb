{
  "nbformat": 4,
  "nbformat_minor": 0,
  "metadata": {
    "colab": {
      "provenance": [],
      "authorship_tag": "ABX9TyOBpylvVcWAsLwW1P2GsSq8",
      "include_colab_link": true
    },
    "kernelspec": {
      "name": "python3",
      "display_name": "Python 3"
    },
    "language_info": {
      "name": "python"
    }
  },
  "cells": [
    {
      "cell_type": "markdown",
      "metadata": {
        "id": "view-in-github",
        "colab_type": "text"
      },
      "source": [
        "<a href=\"https://colab.research.google.com/github/wgastelu/Trabajo_Final_Python/blob/main/Trabajo%20Final%20Python%20B%C3%A1sico.ipynb\" target=\"_parent\"><img src=\"https://colab.research.google.com/assets/colab-badge.svg\" alt=\"Open In Colab\"/></a>"
      ]
    },
    {
      "cell_type": "markdown",
      "source": [
        "# **Modulo 2**\n",
        "\n",
        "## **Sentencias IF**\n",
        "\n",
        "**Ejercicio 1**\n",
        "\n",
        "Imagina que un extraterrestre acaba de ser derribado en un juego. Cree una variable llamada alien_color y asígnele un valor de 'verde', 'amarillo' o 'rojo'.\n",
        "\n",
        "Escribe una declaración if para probar si el color del extraterrestre es verde. Si es así, imprime un mensaje de que el jugador acaba de ganar 5 puntos."
      ],
      "metadata": {
        "id": "sMluBvB-1jdF"
      }
    },
    {
      "cell_type": "code",
      "execution_count": 6,
      "metadata": {
        "id": "9zE_t7Q1dLYZ",
        "colab": {
          "base_uri": "https://localhost:8080/"
        },
        "outputId": "e0121326-d8a8-4706-ffa4-6fb9194efbdf"
      },
      "outputs": [
        {
          "output_type": "stream",
          "name": "stdout",
          "text": [
            "Ingrese el color del Alien: verde\n",
            "Acaba de ganar 5 puntos\n"
          ]
        }
      ],
      "source": [
        "alien_color = input(\"Ingrese el color del Alien: \")\n",
        "\n",
        "if alien_color.lower() == 'verde':\n",
        "  print(\"Acaba de ganar 5 puntos\")\n"
      ]
    },
    {
      "cell_type": "markdown",
      "source": [
        "**Ejercicio 2**\n",
        "\n",
        "Elija un color para un extraterrestre como lo hizo en el Ejercicio anterior y escriba una cadena if-else.\n",
        "\n",
        "Si el alienígena es verde, imprime un mensaje de que el jugador obtuvo 5 puntos. Si el alienígena es amarillo, imprime un mensaje de que el jugador obtuvo 10 puntos. Si el alienígena es rojo, imprime un mensaje de que el jugador obtuvo 15 puntos."
      ],
      "metadata": {
        "id": "8VeyoTc_13Pj"
      }
    },
    {
      "cell_type": "code",
      "source": [
        "alien_color = input(\"Ingrese el color del Alien: \")\n",
        "\n",
        "if alien_color.lower() == 'verde':\n",
        "  print(\"Acaba de ganar 5 puntos\")\n",
        "\n",
        "if alien_color.lower() == 'amarillo':\n",
        "  print(\"Acaba de ganar 10 puntos\")\n",
        "\n",
        "if alien_color.lower() == 'rojo':\n",
        "  print(\"Acaba de ganar 15 puntos\")\n",
        "\n"
      ],
      "metadata": {
        "colab": {
          "base_uri": "https://localhost:8080/"
        },
        "id": "-_Jb-y7H2CNf",
        "outputId": "7a694b7b-30af-4524-b46a-f9daca33cd16"
      },
      "execution_count": 9,
      "outputs": [
        {
          "output_type": "stream",
          "name": "stdout",
          "text": [
            "Ingrese el color del Alien: rojo\n",
            "Acaba de ganar 15 puntos\n"
          ]
        }
      ]
    },
    {
      "cell_type": "markdown",
      "source": [
        "# **Sentencias While**\n",
        "\n",
        "**Ejercicio 1**\n",
        "\n",
        "Escriba un ciclo que solicite al usuario que ingrese una serie de ingredientes para la pizza hasta que ingrese un valor de 'salir'. A medida que ingresen cada ingrediente, imprima un mensaje que diga que agregará ese ingrediente a su pizza."
      ],
      "metadata": {
        "id": "xI3VwhBz2Drs"
      }
    },
    {
      "cell_type": "code",
      "source": [
        "while True:\n",
        "  Ingrediente = input(\"Ingrese el ingrediente: \")\n",
        "  if Ingrediente.lower() == 'salir':\n",
        "    break           \n",
        "  else:\n",
        "    print(f\"Se agregará {Ingrediente} a su pizza\")\n",
        "    "
      ],
      "metadata": {
        "colab": {
          "base_uri": "https://localhost:8080/"
        },
        "id": "lebvi6Li2Qd8",
        "outputId": "a201f0eb-7695-4124-ceed-48feb3a71ec1"
      },
      "execution_count": 16,
      "outputs": [
        {
          "name": "stdout",
          "output_type": "stream",
          "text": [
            "Ingrese el ingrediente: Carne\n",
            "Se agregará Carne a su pizza\n",
            "Ingrese el ingrediente: Jamón\n",
            "Se agregará Jamón a su pizza\n",
            "Ingrese el ingrediente: Champiñones\n",
            "Se agregará Champiñones a su pizza\n",
            "Ingrese el ingrediente: salir\n"
          ]
        }
      ]
    },
    {
      "cell_type": "markdown",
      "source": [
        "**Ejercicio 2**\n",
        "\n",
        "Un cine cobra diferentes precios de boletos dependiendo de la edad de una persona. Si una persona es menor de 3 años, la entrada es gratuita; si son entre 3 y 12, el boleto cuesta s/. 10; y si son mayores de 12 años, el boleto cuesta s/. 15. Escriba un ciclo en el que pregunte a los usuarios su edad y luego dígales el costo de su boleto de cine."
      ],
      "metadata": {
        "id": "Q4SKkDv-2RFt"
      }
    },
    {
      "cell_type": "code",
      "source": [
        "while True:  \n",
        "  Edad = int(input(\"Ingrese su edad: \"))  \n",
        "  if Edad < 0:\n",
        "    break\n",
        "  elif Edad >= 0 and Edad < 3:\n",
        "    print(\"La entrada es gratuita\")\n",
        "  elif Edad >= 3 and Edad <= 12:\n",
        "    print(\"El precio del boleto es S/. 10\")   \n",
        "  elif Edad > 12:\n",
        "    print(\"El precio del boleto es S/. 15\")\n",
        "  "
      ],
      "metadata": {
        "colab": {
          "base_uri": "https://localhost:8080/"
        },
        "id": "l68Ryrgz2ZRt",
        "outputId": "507704f4-7c75-4914-dbb9-ef927f7dce70"
      },
      "execution_count": 25,
      "outputs": [
        {
          "name": "stdout",
          "output_type": "stream",
          "text": [
            "Ingrese su edad: 2\n",
            "La entrada es gratuita\n",
            "Ingrese su edad: 8\n",
            "El precio del boleto es S/. 10\n",
            "Ingrese su edad: 25\n",
            "El precio del boleto es S/. 15\n",
            "Ingrese su edad: -1\n"
          ]
        }
      ]
    },
    {
      "cell_type": "markdown",
      "source": [
        "# **Sentencia For**\n",
        "\n",
        "**Ejercicio 1**\n",
        "\n",
        "Piensa en al menos tres tipos de tu pizza favorita. Almacene estos nombres de pizza en una lista y luego use un ciclo for para imprimir el nombre de cada pizza.\n",
        "\n",
        "Modifique su ciclo for para imprimir una oración usando el nombre de la pizza en lugar de imprimir solo el nombre de la pizza. Para cada pizza, debe tener una línea de salida que contenga una declaración simple como Me gusta la pizza de pepperoni. Agregue una línea al final de su programa, fuera del bucle for, que indique cuánto le gusta la pizza. El resultado debe constar de tres o más líneas sobre los tipos de pizza que te gustan y luego una oración adicional, como ¡Me encanta la pizza!"
      ],
      "metadata": {
        "id": "mPGdeI9L2f30"
      }
    },
    {
      "cell_type": "code",
      "source": [
        "Lista_Pizzas = [\"Vegetariana\", \"Hawaiana\", \"Napolitana\"]\n",
        "for i in Lista_Pizzas:\n",
        "  print(i)"
      ],
      "metadata": {
        "colab": {
          "base_uri": "https://localhost:8080/"
        },
        "id": "8CteiP-R2spq",
        "outputId": "a36693e0-b553-46a0-fce5-c7f2cf3d7e3b"
      },
      "execution_count": 28,
      "outputs": [
        {
          "output_type": "stream",
          "name": "stdout",
          "text": [
            "Vegetariana\n",
            "Hawaiana\n",
            "Napolitana\n"
          ]
        }
      ]
    },
    {
      "cell_type": "code",
      "source": [
        "Lista_Pizzas = [\"Vegetariana\", \"Hawaiana\", \"Napolitana\"]\n",
        "for i in Lista_Pizzas:\n",
        "  print(f\"Me gusta la pizza {i}\")\n",
        "print(\"¡Me encanta la pizza!\")"
      ],
      "metadata": {
        "colab": {
          "base_uri": "https://localhost:8080/"
        },
        "id": "6DUL7-CeVQc6",
        "outputId": "970288fe-d639-46ba-b4e1-8c7d1bfe5d6a"
      },
      "execution_count": 30,
      "outputs": [
        {
          "output_type": "stream",
          "name": "stdout",
          "text": [
            "Me gusta la pizza Vegetariana\n",
            "Me gusta la pizza Hawaiana\n",
            "Me gusta la pizza Napolitana\n",
            "¡Me encanta la pizza!\n"
          ]
        }
      ]
    },
    {
      "cell_type": "markdown",
      "source": [
        "**Ejercicio 2**\n",
        "\n",
        "Piensa en al menos tres animales diferentes que tengan una característica común. Guarde los nombres de estos animales en una lista y luego use un ciclo for para imprimir el nombre de cada animal.\n",
        "\n",
        "Modifique su programa para imprimir una declaración sobre cada animal, como Un perro sería una gran mascota. Agregue una línea al final de su programa indicando lo que estos animales tienen en común. Podría escribir una oración como ¡Cualquiera de estos animales sería una gran mascota!"
      ],
      "metadata": {
        "id": "ZHXLW8R72tHb"
      }
    },
    {
      "cell_type": "code",
      "source": [
        "Lista_Animales = [\"Perro\", \"Gato\", \"Loro\"]\n",
        "for i in Lista_Animales:\n",
        "  print(i)"
      ],
      "metadata": {
        "colab": {
          "base_uri": "https://localhost:8080/"
        },
        "id": "93GwbwmC2x2c",
        "outputId": "a9ebf1a3-f1a8-4cd3-9b95-7a781cfe21bb"
      },
      "execution_count": 31,
      "outputs": [
        {
          "output_type": "stream",
          "name": "stdout",
          "text": [
            "Perro\n",
            "Gato\n",
            "Loro\n"
          ]
        }
      ]
    },
    {
      "cell_type": "code",
      "source": [
        "Lista_Animales = [\"Perro\", \"Gato\", \"Loro\"]\n",
        "for i in Lista_Animales:\n",
        "  print(f\"Un {i} sería una gran mascota\")\n",
        "print(\"¡Cualquiera de estos animales sería una gran mascota!\")"
      ],
      "metadata": {
        "colab": {
          "base_uri": "https://localhost:8080/"
        },
        "id": "sYXN0P5NWhso",
        "outputId": "51255ad2-d815-47eb-fc3a-6f354ae9893a"
      },
      "execution_count": 33,
      "outputs": [
        {
          "output_type": "stream",
          "name": "stdout",
          "text": [
            "Un Perro sería una gran mascota\n",
            "Un Gato sería una gran mascota\n",
            "Un Loro sería una gran mascota\n",
            "¡Cualquiera de estos animales sería una gran mascota!\n"
          ]
        }
      ]
    },
    {
      "cell_type": "markdown",
      "source": [
        "# **Modulo 3**\n",
        "## **Usando funciones con loops while**\n",
        "\n",
        "**Ejercicio 2**\n",
        "\n",
        "Escriba una función llamada make_album() que cree un diccionario que describa un álbum de música. La función debe tomar el nombre de un artista y el título de un álbum, y debe devolver un diccionario que contenga estos dos datos. Utilice la función para crear tres diccionarios que representen diferentes álbumes. Imprima cada valor devuelto para mostrar que los diccionarios están almacenando la información del álbum correctamente.\n",
        "\n",
        "Use None para agregar un parámetro opcional a make_album() que le permita almacenar la cantidad de canciones en un álbum. Si la línea de llamada incluye un valor para la cantidad de canciones, agregue ese valor al diccionario del álbum. Realice al menos una nueva llamada de función que incluya la cantidad de canciones en un álbum."
      ],
      "metadata": {
        "id": "Qk1sT3Bpb_rN"
      }
    },
    {
      "cell_type": "code",
      "source": [
        "def make_album(Artista, Album):  \n",
        "  Dic_Album = {'Nombre Artista': Artista, 'Nombre Albúm': Album}\n",
        "  return Dic_Album\n"
      ],
      "metadata": {
        "id": "zv_WOQfMcf-U"
      },
      "execution_count": 14,
      "outputs": []
    },
    {
      "cell_type": "code",
      "source": [
        "make_album(\"Soda Stereo\", \"Nada Personal\")\n"
      ],
      "metadata": {
        "colab": {
          "base_uri": "https://localhost:8080/"
        },
        "id": "d-kJrXR_D6mb",
        "outputId": "ef02f58c-5220-48a4-ceca-03a1b35c2e8e"
      },
      "execution_count": 15,
      "outputs": [
        {
          "output_type": "execute_result",
          "data": {
            "text/plain": [
              "{'Nombre Artista': 'Soda Stereo', 'Nombre Albúm': 'Nada Personal'}"
            ]
          },
          "metadata": {},
          "execution_count": 15
        }
      ]
    },
    {
      "cell_type": "code",
      "source": [
        "make_album(\"Bon Jovi\", \"These Days\")\n"
      ],
      "metadata": {
        "colab": {
          "base_uri": "https://localhost:8080/"
        },
        "id": "N_zvy3v0D8Kp",
        "outputId": "0f0c6b7a-d927-4ad0-863a-65972e2b1904"
      },
      "execution_count": 16,
      "outputs": [
        {
          "output_type": "execute_result",
          "data": {
            "text/plain": [
              "{'Nombre Artista': 'Bon Jovi', 'Nombre Albúm': 'These Days'}"
            ]
          },
          "metadata": {},
          "execution_count": 16
        }
      ]
    },
    {
      "cell_type": "code",
      "source": [
        "make_album(\"Pedro Suárez-Vértiz\", \"Degeneración actual\")"
      ],
      "metadata": {
        "colab": {
          "base_uri": "https://localhost:8080/"
        },
        "id": "lUSltc6zD7og",
        "outputId": "6b8d2f13-9dec-4a23-c7a0-fc8f60917876"
      },
      "execution_count": 17,
      "outputs": [
        {
          "output_type": "execute_result",
          "data": {
            "text/plain": [
              "{'Nombre Artista': 'Pedro Suárez-Vértiz',\n",
              " 'Nombre Albúm': 'Degeneración actual'}"
            ]
          },
          "metadata": {},
          "execution_count": 17
        }
      ]
    },
    {
      "cell_type": "code",
      "source": [
        "def make_album(Artista, Album, Canciones = None):\n",
        "  \"\"\"Return a dictionary of information about a person.\"\"\"\n",
        "  Dic_Album = {'Nombre Artista': Artista, 'Nombre Albúm': Album, 'Número canciones': Canciones}\n",
        "  return Dic_Album"
      ],
      "metadata": {
        "id": "Z6ANjqSHERUL"
      },
      "execution_count": 24,
      "outputs": []
    },
    {
      "cell_type": "code",
      "source": [
        "make_album(\"Soda Stereo\", \"Nada Personal\", 10)"
      ],
      "metadata": {
        "colab": {
          "base_uri": "https://localhost:8080/"
        },
        "id": "UXSvqJScEpHr",
        "outputId": "536750a2-7861-49c0-8963-00b25512feb9"
      },
      "execution_count": 25,
      "outputs": [
        {
          "output_type": "execute_result",
          "data": {
            "text/plain": [
              "{'Nombre Artista': 'Soda Stereo',\n",
              " 'Nombre Albúm': 'Nada Personal',\n",
              " 'Número canciones': 10}"
            ]
          },
          "metadata": {},
          "execution_count": 25
        }
      ]
    },
    {
      "cell_type": "markdown",
      "source": [
        "\n",
        "**Ejercicio 3**\n",
        "\n",
        "Comience con su programa del ejercicio anterior. Escriba un ciclo while que permita a los usuarios ingresar el artista y el título de un álbum. Una vez que tenga esa información, llame a make_album() con la entrada del usuario e imprima el diccionario que se crea. Asegúrese de incluir un valor de salida en el ciclo while."
      ],
      "metadata": {
        "id": "gyDrwq62cmID"
      }
    },
    {
      "cell_type": "code",
      "source": [
        "def make_album(Artista, Album):  \n",
        "  Dic_Album = {'Nombre Artista': Artista, 'Nombre Albúm': Album}\n",
        "  return Dic_Album\n"
      ],
      "metadata": {
        "id": "EZgWKkjmGWNb"
      },
      "execution_count": 37,
      "outputs": []
    },
    {
      "cell_type": "code",
      "source": [
        "while True:  \n",
        "  Consulta_Artista = input(\"Ingrese el nombre del artista: \")  \n",
        "  Consulta_Album = input(\"Ingrese el nombre del albúm: \")  \n",
        "  Dic_Art_Alb = make_album(Consulta_Artista, Consulta_Album)\n",
        "  print(Dic_Art_Alb)\n",
        "  Consulta_Salir = input(\"Desea salir? \")  \n",
        "  if Consulta_Salir.lower() == 'si':\n",
        "    break\n",
        "       "
      ],
      "metadata": {
        "colab": {
          "base_uri": "https://localhost:8080/"
        },
        "id": "uz7269Fpcr2_",
        "outputId": "59113a66-ceb2-432a-af23-04cac23ded80"
      },
      "execution_count": 49,
      "outputs": [
        {
          "name": "stdout",
          "output_type": "stream",
          "text": [
            "Ingrese el nombre del artista: Pedro Suárez-Vértiz\n",
            "Ingrese el nombre del albúm: Degeneración actual\n",
            "{'Nombre Artista': 'Pedro Suárez-Vértiz', 'Nombre Albúm': 'Degeneración actual'}\n",
            "Desea salir? si\n"
          ]
        }
      ]
    },
    {
      "cell_type": "markdown",
      "source": [
        "## **Usando Listas**\n",
        "\n",
        "\n",
        "**Ejercicio 2**\n",
        "\n",
        "Comience con una copia de su programa del Ejercicio anterior. Escriba una función llamada send_messages() que imprima cada mensaje de texto y mueva cada mensaje a una nueva lista llamada sent_messages a medida que se imprime. Después de llamar a la función, imprima ambas listas para asegurarse de que los mensajes se movieron correctamente."
      ],
      "metadata": {
        "id": "NBL5xKOKNPWv"
      }
    },
    {
      "cell_type": "code",
      "source": [
        "def send_messages(messages):\n",
        "  sent_messages = []\n",
        "  print(\"Impresión de cada mensaje de texto:\")\n",
        "  while messages:\n",
        "    Mensaje_Actual = messages.pop()\n",
        "    # Imprimir cada mensaje de texto    \n",
        "    print(f'\\n{Mensaje_Actual}')\n",
        "    # Mover mensaje a una nueva lista llamada sent_messages a medida que se imprime    \n",
        "    sent_messages.append(Mensaje_Actual)\n",
        "  \n",
        "  print(\"\\nImpresión de nueva lista (comprobación):\")\n",
        "  for Mensaje_Movido in sent_messages:\n",
        "    print(f'\\n{Mensaje_Movido}')\n"
      ],
      "metadata": {
        "id": "BnUNihrjShDN"
      },
      "execution_count": 70,
      "outputs": []
    },
    {
      "cell_type": "code",
      "source": [
        "send_messages(['mensaje 1','mensaje 2','mensaje 3'])"
      ],
      "metadata": {
        "colab": {
          "base_uri": "https://localhost:8080/"
        },
        "id": "hDKNtMidSEp6",
        "outputId": "4fca217e-e9f5-4f7a-c4d0-e2b3c47ba7f1"
      },
      "execution_count": 71,
      "outputs": [
        {
          "output_type": "stream",
          "name": "stdout",
          "text": [
            "Impresión de cada mensaje de texto:\n",
            "\n",
            "mensaje 3\n",
            "\n",
            "mensaje 2\n",
            "\n",
            "mensaje 1\n",
            "\n",
            "Impresión de nueva lista (comprobación):\n",
            "\n",
            "mensaje 3\n",
            "\n",
            "mensaje 2\n",
            "\n",
            "mensaje 1\n"
          ]
        }
      ]
    },
    {
      "cell_type": "markdown",
      "source": [
        "\n",
        "**Ejercicio 3**\n",
        "\n",
        "Comience con su trabajo del Ejercicio anterior. Llame a la función send_messages() con una copia de la lista de mensajes. Después de llamar a la función, imprima ambas listas para mostrar que la lista original ha conservado sus mensajes."
      ],
      "metadata": {
        "id": "gFAABBeSNV1w"
      }
    },
    {
      "cell_type": "code",
      "source": [
        "Lista_Mensajes = ['mensaje 1','mensaje 2','mensaje 3']\n",
        "Copia_Lista_Mensajes = ['mensaje 1','mensaje 2','mensaje 3']\n",
        "send_messages(Copia_Lista_Mensajes)\n",
        "print(f\"\\nLa lista de mensajes originales es: {Lista_Mensajes}\")"
      ],
      "metadata": {
        "colab": {
          "base_uri": "https://localhost:8080/"
        },
        "id": "XPS8ysjHNYZf",
        "outputId": "94edbbc8-e21f-4b80-b97e-3f936be70e4b"
      },
      "execution_count": 79,
      "outputs": [
        {
          "output_type": "stream",
          "name": "stdout",
          "text": [
            "Impresión de cada mensaje de texto:\n",
            "\n",
            "mensaje 3\n",
            "\n",
            "mensaje 2\n",
            "\n",
            "mensaje 1\n",
            "\n",
            "Impresión de nueva lista (comprobación):\n",
            "\n",
            "mensaje 3\n",
            "\n",
            "mensaje 2\n",
            "\n",
            "mensaje 1\n",
            "\n",
            "La lista de mensajes originales es: ['mensaje 1', 'mensaje 2', 'mensaje 3']\n"
          ]
        }
      ]
    },
    {
      "cell_type": "markdown",
      "source": [
        "## **Pasar un número arbitrario de argumentos**\n",
        "\n",
        "\n",
        "**Ejercicio 2**\n",
        "\n",
        "Comience con una copia de user_profile de *Uso de argumentos de palabras clave arbitrarias. Cree un perfil de usted mismo llamando a build_profile()*, usando su nombre y apellido y otros tres pares clave-valor que lo describan."
      ],
      "metadata": {
        "id": "iA--7hPfNiR-"
      }
    },
    {
      "cell_type": "code",
      "source": [
        "def build_profile(first, last, **user_info):\n",
        "    \"\"\"Build a dictionary containing everything we know about a user.\"\"\"\n",
        "    user_info['first_name'] = first\n",
        "    user_info['last_name'] = last\n",
        "    return user_info"
      ],
      "metadata": {
        "id": "z-4w3Pk9N5Vk"
      },
      "execution_count": 82,
      "outputs": []
    },
    {
      "cell_type": "code",
      "source": [
        "user_profile = build_profile('Wilmer', 'Gastelú',\n",
        "                             location='Peru',\n",
        "                             Course='Python Básico',                             \n",
        "                             University='UNI')\n",
        "print(user_profile)"
      ],
      "metadata": {
        "id": "0kobwIImi9E5",
        "outputId": "56ac8b56-50e3-46f9-da88-2748a4a04082",
        "colab": {
          "base_uri": "https://localhost:8080/"
        }
      },
      "execution_count": 83,
      "outputs": [
        {
          "output_type": "stream",
          "name": "stdout",
          "text": [
            "{'location': 'Peru', 'Course': 'Python Básico', 'University': 'UNI', 'first_name': 'Wilmer', 'last_name': 'Gastelú'}\n"
          ]
        }
      ]
    },
    {
      "cell_type": "markdown",
      "source": [
        "**Ejercicio 3**\n",
        "\n",
        "Escribe una función que almacene información sobre un automóvil en un diccionario. La función siempre debe recibir un fabricante y un nombre de modelo. Entonces debería aceptar un número arbitrario de argumentos de palabras clave. Llame a la función con la información requerida y otros dos pares de nombre y valor, como un color o una función opcional. Su función debería funcionar para una llamada como esta:\n",
        "\n",
        "coche = make_car('subaru', 'outback', color='blue', tow_package=True)\n",
        "\n",
        "Imprima el diccionario que se devuelve para asegurarse de que toda la información se almacenó correctamente."
      ],
      "metadata": {
        "id": "w05I3c8wN52M"
      }
    },
    {
      "cell_type": "code",
      "source": [],
      "metadata": {
        "id": "H3pO37PUN9YU"
      },
      "execution_count": null,
      "outputs": []
    },
    {
      "cell_type": "markdown",
      "source": [
        "## **Introducción a Clases**\n",
        "\n",
        "**Ejercicio 3**\n",
        "\n",
        "Haz una clase llamada Usuario. Cree dos atributos llamados first_name y last_name, y luego cree varios otros atributos que normalmente se almacenan en un perfil de usuario. Cree un método llamado describe_user() que imprima un resumen de la información del usuario. Cree otro método llamado greeting_user() que imprima un saludo personalizado para el usuario.\n",
        "\n",
        "Cree varias instancias que representen a diferentes usuarios y llame a ambos métodos para cada usuario."
      ],
      "metadata": {
        "id": "wp57JM-mN-Pp"
      }
    },
    {
      "cell_type": "code",
      "source": [],
      "metadata": {
        "id": "XmpuEI4nOOs0"
      },
      "execution_count": null,
      "outputs": []
    }
  ]
}